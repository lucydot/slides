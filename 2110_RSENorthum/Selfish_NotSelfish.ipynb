{
 "cells": [
  {
   "cell_type": "markdown",
   "id": "aware-transsexual",
   "metadata": {
    "slideshow": {
     "slide_type": "slide"
    }
   },
   "source": [
    "# Some selfish and not-so-selfish reasons for sharing you code\n",
    "\n",
    "## Lucy Whalley / lucydot.github.io\n",
    "\n",
    "<p align=\"center\">\n",
    "<img src=\"landing.jpg\" alt=\"drawing\" width=\"400\"/>\n",
    "</p>"
   ]
  },
  {
   "cell_type": "markdown",
   "id": "classical-coffee",
   "metadata": {
    "slideshow": {
     "slide_type": "slide"
    }
   },
   "source": [
    "# Who am I?\n",
    "\n",
    "📖  VCF at Northumbria University \n",
    "- computational materials science: physics, chemistry, software engineering\n",
    "\n",
    "🖥️  Fellow of the Software Sustainability Institute\n",
    "\n",
    "🍏 Ex-school/college teacher\n",
    "\n",
    "⚠️  (Full disclosure!) Topic editor for The Journal of Open Source Software  \n",
    "\n"
   ]
  },
  {
   "cell_type": "markdown",
   "id": "embedded-methodology",
   "metadata": {
    "slideshow": {
     "slide_type": "slide"
    }
   },
   "source": [
    "# In today's talk I want to persuade you that sharing your code is a <span style=\"color:#8B0000\"> Good Idea $^\\mathrm{TM}$</span> that can bring several benefits.\n",
    "\n"
   ]
  },
  {
   "cell_type": "markdown",
   "id": "widespread-ireland",
   "metadata": {
    "slideshow": {
     "slide_type": "notes"
    }
   },
   "source": [
    "Now the reason I think it is a good idea is from personal experience. Because sharing my research code transformed the way I use and develop software."
   ]
  },
  {
   "cell_type": "markdown",
   "id": "wound-while",
   "metadata": {
    "slideshow": {
     "slide_type": "slide"
    }
   },
   "source": [
    "# Case Study: Effmass.py \n",
    "- This was my first research software project\n",
    "- `Effmass` calculates the effective mass of electrons in a particular material \n",
    "- But the domain specific details aren't important..\n",
    "\n",
    "\n",
    "![](spaghetti.png)\n",
    "\n",
    "\n"
   ]
  },
  {
   "cell_type": "markdown",
   "id": "584f625a",
   "metadata": {
    "slideshow": {
     "slide_type": "notes"
    }
   },
   "source": [
    "Effmass does one thing, and does it well."
   ]
  },
  {
   "cell_type": "markdown",
   "id": "removed-choice",
   "metadata": {
    "slideshow": {
     "slide_type": "slide"
    }
   },
   "source": [
    "## Effmass circa 2016 🍝 \n",
    "\n",
    "- One module contains (long) methods for data parsing, analysis and print out\n",
    "- In a private Github repo (with me as sole contributor)\n",
    "- Has the functionality needed for my own data analysis\n",
    "- No testing or documentation\n"
   ]
  },
  {
   "cell_type": "markdown",
   "id": "opposite-brass",
   "metadata": {
    "slideshow": {
     "slide_type": "subslide"
    }
   },
   "source": [
    "## Effmass circa 2018  🖥️ \n",
    "\n",
    "- Re-factored into six modules\n",
    "- In a public Github repo \n",
    "- Testing and continuous integration\n",
    "- Documentation website"
   ]
  },
  {
   "cell_type": "markdown",
   "id": "curious-wings",
   "metadata": {
    "slideshow": {
     "slide_type": "subslide"
    }
   },
   "source": [
    "## Effmass now 💖\n",
    "\n",
    "- 6 contributors\n",
    "- Can parse data from multiple sources\n",
    "- 14,000 downloads (PyPI stats), 4 citations (a discussion around *that* ratio is a whole other talk...)"
   ]
  },
  {
   "cell_type": "markdown",
   "id": "rural-johnson",
   "metadata": {
    "slideshow": {
     "slide_type": "slide"
    }
   },
   "source": [
    "# JOSS transformed the way I look at software\n",
    "\n",
    "\n",
    "- It justified the time spent on learning new skills: documentation, testing, packaging (*I'll get a journal publication!*)\n",
    "- The peer-review process forced me to share my code and this built my confidence (*I'm not the worst programmer in the world!*)\n",
    "\n",
    "<img src=\"carrots.png\" alt=\"drawing\" width=\"600\"/>\n",
    "\n"
   ]
  },
  {
   "cell_type": "markdown",
   "id": "christian-genealogy",
   "metadata": {
    "slideshow": {
     "slide_type": "slide"
    }
   },
   "source": [
    "# Some selfish reasons for sharing code\n",
    "\n",
    "- If other people can use your code --> you can re-use your code --> more efficient working\n",
    "- Valuable feedback through the peer review process\n",
    "- Research credit through citation counts\n",
    "- Career progression: the RSE career path, funding opportunities (e.g. EPSRC)\n",
    "- Appreciation from your colleagues and self-promotion\n",
    "\n"
   ]
  },
  {
   "cell_type": "markdown",
   "id": "greatest-ratio",
   "metadata": {
    "slideshow": {
     "slide_type": "subslide"
    }
   },
   "source": [
    "![](./shameless_selfpromotion.png)"
   ]
  },
  {
   "cell_type": "markdown",
   "id": "liked-belly",
   "metadata": {
    "slideshow": {
     "slide_type": "slide"
    }
   },
   "source": [
    "# What about the not-so-selfish reasons?\n",
    "\n",
    "- Other people can use your code and the field will progress more rapidly\n",
    "- To ensure scientific reproducibility\n",
    " \n",
    "*We have publication processes to root out error for research that is done without a computer. Once you introduce a computer, the materials section in a typical scientific paper doesn’t come close to providing the information that you need to verify the results. Analysing complicated data by computer requires instructions consisting of script and code. Hence we need the code, and we need the data.*\n",
    "\n",
    "Victoria Stodden, Editor, Journal of the American Statistical Association"
   ]
  },
  {
   "cell_type": "markdown",
   "id": "0e145e13",
   "metadata": {
    "slideshow": {
     "slide_type": "notes"
    }
   },
   "source": [
    "Top tier journals  - science and nature - require you to share the code that is needed to get to a certain result."
   ]
  },
  {
   "cell_type": "markdown",
   "id": "following-member",
   "metadata": {
    "slideshow": {
     "slide_type": "slide"
    }
   },
   "source": [
    "# Code sharing options\n",
    "\n",
    "Public repo + citation file:\n",
    "\n",
    "    ✔️ Straight forward to implement: Github + Citation File Format\n",
    "    ✖️ No peer review\n"
   ]
  },
  {
   "cell_type": "markdown",
   "id": "337f24fe",
   "metadata": {
    "slideshow": {
     "slide_type": "subslide"
    }
   },
   "source": [
    "# Code sharing options\n",
    "\n",
    "Code review with a colleague or community member: \n",
    "\n",
    "    ✔️ A good option if you are nervous about releasing your code to the wild!\n",
    "    ✔️ Several on-line initiatives if there is no-one in your immediate research circle\n",
    "    ✖️ No citation"
   ]
  },
  {
   "cell_type": "markdown",
   "id": "c1aa6ac9",
   "metadata": {
    "slideshow": {
     "slide_type": "notes"
    }
   },
   "source": [
    "Notes on confidence: Used to work in a prison teahing adult men maths. These are people up to their 60s who have very little confidence in their academic ability, no formal qualification, 40 years since they were last in school. So they're nervous. I have seen much the same behaviour teaching PhD students across several universities in the UK. Coding, programming is one of those things that people tend to find disproportionality scary, that very intelligent people can still for some reason have very low confidence with. An important first step in building confidence is sharing your code. You will find that yes your code isn't perfect, but thats fine, no-one elses is perfect either."
   ]
  },
  {
   "cell_type": "markdown",
   "id": "b72d1920",
   "metadata": {
    "slideshow": {
     "slide_type": "subslide"
    }
   },
   "source": [
    "![](CodeReview.png)"
   ]
  },
  {
   "cell_type": "markdown",
   "id": "9771496a",
   "metadata": {
    "slideshow": {
     "slide_type": "subslide"
    }
   },
   "source": [
    "![](PyOpenSci.png)"
   ]
  },
  {
   "cell_type": "markdown",
   "id": "4a39e19f",
   "metadata": {
    "slideshow": {
     "slide_type": "subslide"
    }
   },
   "source": [
    "# Code sharing options\n",
    "\n",
    "Executable paper (e.g. a Jupyter Notebook) as Supplementary Information:\n",
    "\n",
    "    ✔️ Citeable\n",
    "    ✖️ Code is usually not peer-reviewed  \n",
    "    ✖️ Limited to smaller pieces of code  \n",
    "    ✖️ Requires a corresponding full length article   \n",
    "    "
   ]
  },
  {
   "cell_type": "markdown",
   "id": "a7930717",
   "metadata": {
    "slideshow": {
     "slide_type": "slide"
    }
   },
   "source": [
    "# Publishing code in a <mark> traditional</mark> journal\n",
    "\n",
    "Publishing in a traditional computational journal (e.g. Journal of computational electronics)\n",
    "\n",
    "    ✔️ Citeable\n",
    "    ✖️ Code is usually not necessarily peer-reviewed  \n",
    "    ✖️ Requires mapping your code to a written journal article (*is this a good use of resources?*)  \n",
    "    \n",
    "\n",
    "*\"...the basic means of communicating scientific results hasn’t changed for 400 years. Papers may be posted online, but they’re still text and pictures on a page.\"*\n",
    " \n",
    "From *The Scientific Paper Is Obsolete* by James Somers"
   ]
  },
  {
   "cell_type": "markdown",
   "id": "selective-treat",
   "metadata": {
    "slideshow": {
     "slide_type": "notes"
    }
   },
   "source": [
    "If software is a valid research output, why don't we publish our software in journals as standard?\n",
    "Traditional academic journals weren't designed with computational work in mind, and they haven't adapted to the emergence of the computational sciences. \n",
    "In 1665...paper journal summarising work in static text, pictures and mathematical symbols.\n",
    "In 2021....paper and online journals are still summarisinf work as static text, pictures and math symbols.\n",
    "And even though software is central to much of science, I'd argue that it's almost impossible to accurately describe the work you did in this format.\n",
    "We could spend precious time describing the code as text and images  - but is this useful use of our time? And why are we not peer-reviewing the output itself - the software?\n",
    "So"
   ]
  },
  {
   "cell_type": "markdown",
   "id": "adverse-rebel",
   "metadata": {
    "slideshow": {
     "slide_type": "notes"
    }
   },
   "source": [
    "# Why don't we publish our code in journals as standard?\n",
    "\n",
    "- Publishing is dominated by the pdf paper format\n",
    "- The pdf cannot easily capture/describe the essence of the code\n",
    "- ...unless we spend precious time describing the code as text (and is this useful use of our time?)\n",
    "- the code itself is not reviewed"
   ]
  },
  {
   "cell_type": "markdown",
   "id": "8179b7e3",
   "metadata": {
    "slideshow": {
     "slide_type": "subslide"
    }
   },
   "source": [
    "# Publishing code in a <mark>developer friendly</mark> journal\n",
    "\n",
    "Publishing in a <mark>developer friendly</mark> journal (e.g. The Journal of Open Source Software, The Journal of Open Research Software)\n",
    "\n",
    "✔️ A citeable journal publication  \n",
    "✔️ Code is peer-reviewed  \n",
    "✔️ Time efficient: The paper can be prepared in less than an hour"
   ]
  },
  {
   "cell_type": "markdown",
   "id": "found-evidence",
   "metadata": {
    "slideshow": {
     "slide_type": "slide"
    }
   },
   "source": [
    "# A summary of our code sharing options\n",
    "\n",
    "\n",
    "| Publishing method | Example | Citation? | Software peer-review? |  Journal publication? | Time-efficient? | \n",
    "|--------|--------|------|--------|-------|--------|\n",
    "| Public repo + citation file | Citation File Format | ✔️ |  ✖️  | ✖️ | ✔️ | \n",
    "| Community peer review | rOpenSci, pyOpensci | ✔️ |  ✔️  |✖️ | ✔️ |  \n",
    "| Executable paper as Supplementary Information | Jupyter Notebook | ✔️ | ✖️   |✔️ |  ✔️  |\n",
    "| Software paper | Journal of Computational Electronics  | ✔️ | ✖️  | ✔️ | ✖️  |\n",
    "| Software meta-paper | JOSS, JORS | ✔️ | ✔️  | ✔️ | ✔️ |\n",
    "\n",
    "\n",
    "\n",
    "List of software journals: https://www.software.ac.uk/which-journals-should-i-publish-my-software"
   ]
  },
  {
   "cell_type": "markdown",
   "id": "2faa54e1",
   "metadata": {
    "slideshow": {
     "slide_type": "slide"
    }
   },
   "source": [
    "# But my code isn't good enough to share\n",
    "\n",
    "Yes it is. It doesn't need to be perfect. Sharing your poorly documented, untested, messy code is better than sharing no code. If you want to see an example of bad code that is being shared publicly, feel free to visit my Github (username: lucydot) 😬"
   ]
  },
  {
   "cell_type": "markdown",
   "id": "posted-oxygen",
   "metadata": {
    "slideshow": {
     "slide_type": "slide"
    }
   },
   "source": [
    "\n",
    "# JOSS: making it as easy as possible to write a software paper\n",
    "\n",
    "- Paper preparation and submission for well documented software should take <mark>less than an hour</mark>:\n",
    "    - around two pages\n",
    "    - describes the high level functionality\n",
    "    - does not need to contain novel results\n",
    "- Open access and <mark>no publishing charge</mark>"
   ]
  },
  {
   "cell_type": "markdown",
   "id": "excess-prerequisite",
   "metadata": {
    "slideshow": {
     "slide_type": "slide"
    }
   },
   "source": [
    "# JOSS scope 🔭 \n",
    "\n",
    "The software must...\n",
    "- be open source \n",
    "- have an obvious research application: allows new research challenges to be addressed or makes addressing research challenges significantly better (e.g., faster, easier, simpler)\n",
    "- result from a substantial scholarly effort (rule of thumb: 3 months minimum)"
   ]
  },
  {
   "cell_type": "markdown",
   "id": "empirical-palestine",
   "metadata": {
    "slideshow": {
     "slide_type": "slide"
    }
   },
   "source": [
    "# JOSS peer review process ✏️ \n",
    "\n",
    "- Completely open, Github-based peer review process\n",
    "- Reviewing the software itself\n",
    "- Focused on improving the submission through dialogue - JOSS is an <mark>open collaboration</mark> between author, editor, reviewers (and robot!)\n"
   ]
  },
  {
   "cell_type": "markdown",
   "id": "50ac5947",
   "metadata": {},
   "source": [
    "I used the review criteria can be used as a curriculum for self-directed learning"
   ]
  },
  {
   "cell_type": "markdown",
   "id": "collect-narrative",
   "metadata": {
    "slideshow": {
     "slide_type": "slide"
    }
   },
   "source": [
    "![](automate_everything.jpeg)"
   ]
  },
  {
   "cell_type": "markdown",
   "id": "laden-station",
   "metadata": {
    "slideshow": {
     "slide_type": "slide"
    }
   },
   "source": [
    "# JOSS fills a gap in the market\n",
    "\n",
    "🎈 1000th paper published in 2020 🎈\n",
    "\n",
    "![](growth.png)"
   ]
  },
  {
   "cell_type": "markdown",
   "id": "conservative-source",
   "metadata": {
    "slideshow": {
     "slide_type": "slide"
    }
   },
   "source": [
    "#  Sharing bad code is better than sharing no code\n",
    "\n",
    "✨ Code review can build confidence (SSI, pyOpenSci, rOpenSci....)    \n",
    "✨ Code publishing enables quantifiable credit for your work  \n",
    "✨ If you use software, cite it  \n",
    "✨ <mark>We are always looking for new JOSS reviewers </mark>  "
   ]
  },
  {
   "cell_type": "markdown",
   "id": "activated-springfield",
   "metadata": {
    "slideshow": {
     "slide_type": "slide"
    }
   },
   "source": [
    "# ✨ Thanks ✨ \n",
    "\n",
    "- Software Sustainability Institute \n",
    "- JOSS authors, reviewers, editors\n",
    "- The developers and maintainers of the Python Scipy ecosystem\n",
    "\n",
    "These slides will be made available on the event page."
   ]
  }
 ],
 "metadata": {
  "celltoolbar": "Slideshow",
  "kernelspec": {
   "display_name": "Python 3 (ipykernel)",
   "language": "python",
   "name": "python3"
  },
  "language_info": {
   "codemirror_mode": {
    "name": "ipython",
    "version": 3
   },
   "file_extension": ".py",
   "mimetype": "text/x-python",
   "name": "python",
   "nbconvert_exporter": "python",
   "pygments_lexer": "ipython3",
   "version": "3.9.6"
  }
 },
 "nbformat": 4,
 "nbformat_minor": 5
}
