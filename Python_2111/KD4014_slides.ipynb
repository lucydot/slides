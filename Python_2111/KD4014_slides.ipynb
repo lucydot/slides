{
 "cells": [
  {
   "cell_type": "markdown",
   "id": "82eef304",
   "metadata": {
    "slideshow": {
     "slide_type": "slide"
    }
   },
   "source": [
    "# Welcome 👋 \n",
    "\n",
    "# KD4014 Programming with Python\n",
    "\n",
    "## <mark> Please sit in pairs </mark>\n",
    "\n",
    "Dr Lucy Whalley / l.whalley@northumbria.ac.uk. \n",
    "\n",
    "Course website: [lucydot.github.io/python_novice](https://lucydot.github.io/python_novice)"
   ]
  },
  {
   "cell_type": "markdown",
   "id": "17d51a84",
   "metadata": {
    "slideshow": {
     "slide_type": "slide"
    }
   },
   "source": [
    "# Who am I?\n",
    "\n",
    "- Computational Materials Scientist: Physics, Chemistry, Software Engineering\n",
    "- Renewable Energy materials: Solar cells, batteries\n",
    "- Python programing and Software Sustainability\n",
    "- PhD in Materials Science / MSci in Theoretical Physics"
   ]
  },
  {
   "cell_type": "markdown",
   "id": "f12f8410",
   "metadata": {
    "slideshow": {
     "slide_type": "slide"
    }
   },
   "source": [
    "# Course outline\n",
    "\n",
    "- Week One: Python basics (variables, data types, for loops, conditionals, functions)\n",
    "- Week Two: Data analysis and plotting\n",
    "- Assessment: Coursework will be handed out at the end of the last lab. Due in 16th December.\n",
    "\n",
    "...but why is programming important?"
   ]
  },
  {
   "cell_type": "markdown",
   "id": "9cb3e472",
   "metadata": {
    "slideshow": {
     "slide_type": "slide"
    }
   },
   "source": [
    "<img src=\"./images/disaster.png\"  class=\"plain\" width=\"600\"/>"
   ]
  },
  {
   "cell_type": "markdown",
   "id": "60392150",
   "metadata": {
    "slideshow": {
     "slide_type": "slide"
    }
   },
   "source": [
    "# Why Programming? Reproducibility\n",
    "\n",
    "*For the findings of a study to be reproducible means that results obtained by an experiment or an observational study or <mark>in a statistical analysis of a data set</mark> should be achieved again with a high degree of reliability when the study is replicated.*\n"
   ]
  },
  {
   "cell_type": "markdown",
   "id": "cca07958",
   "metadata": {
    "slideshow": {
     "slide_type": "slide"
    }
   },
   "source": [
    "# Why Programming? Employability\n",
    "\n",
    "\n",
    "- The software development job market is growing fast: jobs are expected to increase by 21% by 2028\n",
    "- The focus of this course is to equip with you with some of the <mark>transferable skills</mark> needed for success in a range of computational disciplines, with examples tailored towards the physics domain.\n",
    "\n",
    "<img src=\"./images/skills-shortage.png\" width=\"400\"/>\n"
   ]
  },
  {
   "cell_type": "markdown",
   "id": "1c32a36a",
   "metadata": {
    "slideshow": {
     "slide_type": "slide"
    }
   },
   "source": [
    "# Why Programming? Computational Physics\n",
    "\n",
    "Computational physics encompasses areas including materials modelling, particle physics simulations, protein structure prediction and plasma modelling. <mark> In fact, it is possible to find a computational branch for every major field in physics.</mark>\n",
    "\n",
    "<img src=\"./images/third_pillar.svg\" width=\"300\"/>"
   ]
  },
  {
   "cell_type": "markdown",
   "id": "6a64212d",
   "metadata": {
    "slideshow": {
     "slide_type": "slide"
    }
   },
   "source": [
    "# Why Python?  The trade-off   \n",
    "\n",
    "<img src=\"./images/costbalance.png\" width=\"400\"/>"
   ]
  },
  {
   "cell_type": "markdown",
   "id": "21e4ecfa",
   "metadata": {
    "slideshow": {
     "slide_type": "slide"
    }
   },
   "source": [
    "\n",
    "# Why Python? It gives you wings\n",
    "\n",
    "\n",
    "<img src=\"./images/pythonwings.png\"  class=\"plain\" width=\"800\"/>"
   ]
  },
  {
   "cell_type": "markdown",
   "id": "05fdd0a1",
   "metadata": {
    "slideshow": {
     "slide_type": "slide"
    }
   },
   "source": [
    "# Why Python? \n",
    "\n",
    "- readable  \n",
    "- free to use\n",
    "- cross-platform\n",
    "- well documented\n",
    "- widely used"
   ]
  },
  {
   "cell_type": "markdown",
   "id": "4b2db710",
   "metadata": {
    "slideshow": {
     "slide_type": "slide"
    }
   },
   "source": [
    "# Warning: Programming *can* be frustrating...\n",
    "\n",
    "<img src=\"./images/upset_baby.jpg\"  class=\"plain\" width=\"600\"/>\n",
    "\n",
    "In programming, the little things matter! An extra full-stop or the smallest typo will stop your code running"
   ]
  },
  {
   "cell_type": "markdown",
   "id": "1d80c47b",
   "metadata": {
    "slideshow": {
     "slide_type": "slide"
    }
   },
   "source": [
    "# ...Pair programming helps\n",
    "\n",
    "<img src=\"./images/driver_navigator.png\"  class=\"plain\" width=\"600\"/>\n",
    "\n",
    "*Betty Snyder and I, from the beginning, were a pair. And I believe that the best programs and designs are done by pairs, because you can criticise each other, and find each others errors, and use the best ideas.* Jean Bartik, Electronic Numerical Integrator and Computer (developed in 1945)"
   ]
  },
  {
   "cell_type": "markdown",
   "id": "a00b6eab",
   "metadata": {
    "slideshow": {
     "slide_type": "slide"
    }
   },
   "source": [
    "# ...The stickies will help also\n",
    "\n",
    "<img src=\"./images/stickies.jpg\"  class=\"plain\" width=\"300\"/>"
   ]
  },
  {
   "cell_type": "markdown",
   "id": "ef6e450c",
   "metadata": {
    "slideshow": {
     "slide_type": "slide"
    }
   },
   "source": [
    "# Task one: questionnaire\n",
    "\n",
    "## Find the link on the course website: lucydot.github.io/python_novice"
   ]
  },
  {
   "cell_type": "markdown",
   "id": "0dc4512b",
   "metadata": {
    "slideshow": {
     "slide_type": "slide"
    }
   },
   "source": [
    "# Task two: Computer setup\n",
    "\n",
    "## Open up a Jupyter Notebook:\n",
    "    - If using a lab computer, use your OneDrive folder\n",
    "    - If using a laptop, follow the setup instructions here: lucydot.github.io/python_novice\n",
    "\n",
    "### Task complete? Explore the course website."
   ]
  },
  {
   "cell_type": "markdown",
   "id": "3a8663cf",
   "metadata": {
    "slideshow": {
     "slide_type": "slide"
    }
   },
   "source": [
    "# ✨ Lesson Outline ✨\n",
    "\n",
    "1. **running python code** \n",
    "2. **variables** \n",
    "3. **data types** \n",
    "4. **functions, help and errors** \n",
    "5. **lists** "
   ]
  },
  {
   "cell_type": "markdown",
   "id": "51b65e44",
   "metadata": {
    "slideshow": {
     "slide_type": "slide"
    }
   },
   "source": [
    "# Plain text vs. Jupyter Notebook\n",
    "\n",
    "- *Plain text approach:*\n",
    "\t- write code in a text editor\n",
    "\t- save with a `.py` extension\n",
    "\t- run code using a terminal\n",
    "\n",
    "- *Jupyter notebook approach:*\n",
    "\t- write code in a `jupyter notebook`\n",
    "\t- run code in a `jupyter notebook`\n",
    "\t- save with a `.ipynb` extension"
   ]
  },
  {
   "cell_type": "markdown",
   "id": "83c5b19a",
   "metadata": {
    "slideshow": {
     "slide_type": "slide"
    }
   },
   "source": [
    "# Pairs Task (5 min)\n",
    "\n",
    "Use your Jupyter notebook to...\n",
    "\n",
    "* link to your favourite webpage\n",
    "* calculate 3624357/325\n",
    "* make a bullet pointed ToDo list with heading \"ToDo list\""
   ]
  },
  {
   "cell_type": "markdown",
   "id": "dcf92b0d",
   "metadata": {
    "slideshow": {
     "slide_type": "slide"
    }
   },
   "source": [
    "<img src=\"./images/valuevariable.png\"  class=\"plain\" width=\"400\"/>"
   ]
  },
  {
   "cell_type": "markdown",
   "id": "7526ceac",
   "metadata": {
    "slideshow": {
     "slide_type": "slide"
    }
   },
   "source": [
    "# Pairs Task (2 min)\n",
    "\n",
    "Can you predict what the final value of `position` is for the code block below? \n",
    "\n",
    "```\n",
    "initial = 'left'\n",
    "position = initial\n",
    "initial = 'right'\n",
    "```"
   ]
  },
  {
   "cell_type": "markdown",
   "id": "1ec878a9",
   "metadata": {
    "slideshow": {
     "slide_type": "slide"
    }
   },
   "source": [
    "# Data types\n",
    "\n",
    "\n",
    "<div align=\"LEFT\">\n",
    "\n",
    "\n",
    "\n",
    "| Data type  | Python name   | Definition   | Example |\n",
    "|----------|--------------|--------------|---------------|\n",
    "|integer   |       int       |  positive or negative whole numbers            |       `-256`        |\n",
    "|float  |            float  |   real number           |         `-3.16436`      |\n",
    "|string  |           str   |        character string      |    `\"20 pence.\" `          |\n",
    "|list     |            list  |   a sequence of values          |     `['frog',2,8]`          |\n",
    "\n",
    "\n",
    "\\+ boolean, dict, tuple, complex, None, set\n",
    "\n"
   ]
  },
  {
   "cell_type": "markdown",
   "id": "52cadf45",
   "metadata": {
    "slideshow": {
     "slide_type": "slide"
    }
   },
   "source": [
    "### Pairs Task (2 min)\n",
    "\n",
    "Which of the following will print 2.0? \n",
    "\n",
    "```\n",
    "first = 1.0\n",
    "second = \"1\"\n",
    "third = \"1.1\"\n",
    "```\n",
    "\n",
    "\n",
    "1. `first + float(second)`\n",
    "2. `float(second) + float(third)`\n",
    "3. `first + int(third)`\n",
    "4. `first + int(float(third))`\n",
    "5. `int(first) + int(float(third))`\n",
    "6. `2.0 * second`\n",
    "\n"
   ]
  },
  {
   "cell_type": "markdown",
   "id": "b0a7dc70",
   "metadata": {
    "slideshow": {
     "slide_type": "slide"
    }
   },
   "source": [
    "# Lists\n",
    "\n",
    "\n",
    "\n",
    "| Data type  | Python name   | Definition   | Example |\n",
    "|----------|--------------|--------------|---------------|\n",
    "|integer   |       int       |  positive or negative whole numbers            |       `-256`        |\n",
    "|float  |            float  |   real number           |         `-3.16436`      |\n",
    "|string  |           str   |        character string      |    `\"20 pence.\" `          |\n",
    "|list     |            list  |   a sequence of values          |     `['frog',2,8]`          |\n",
    "\n",
    "\n"
   ]
  },
  {
   "cell_type": "markdown",
   "id": "776af20e",
   "metadata": {
    "slideshow": {
     "slide_type": "slide"
    }
   },
   "source": [
    "# ✨ Lesson Outline ✨\n",
    "\n",
    "1. **running python code:** Jupyter Notebooks, markdown basics  \n",
    "2. **variables:** variable names, variable assignment, `print()`, execution order   \n",
    "3. **data types:** integer, float, string, list, `len()`, string operations/indexing/slicing, type conversion: `int()`, `str()`, `float()` \n",
    "4. **functions, help and errors:** `min()`, `max()`, `round()`, `help()`, runtime errors (exceptions), syntax errors  \n",
    "5. **lists** sequence type, immutable vs mutable, list method append, del"
   ]
  },
  {
   "cell_type": "markdown",
   "id": "8b785b59",
   "metadata": {
    "slideshow": {
     "slide_type": "slide"
    }
   },
   "source": [
    "# ✨ Previous Lesson ✨\n",
    "\n",
    "1. **running python code:** Jupyter Notebooks, markdown basics  \n",
    "2. **variables:** variable names, variable assignment, `print()`, execution order   \n",
    "3. **data types:** integer, float, string, list, `len()`, string operations/indexing/slicing, type conversion: `int()`, `str()`, `float()` \n",
    "4. **functions, help and errors:** `min()`, `max()`, `round()`, `help()`, runtime errors (exceptions), syntax errors  \n",
    "5. **lists** sequence type, immutable vs mutable, list method append, del"
   ]
  },
  {
   "cell_type": "markdown",
   "id": "e7f1f8e9",
   "metadata": {
    "slideshow": {
     "slide_type": "slide"
    }
   },
   "source": [
    "# ✨ Today's Lesson ✨\n",
    "\n",
    "1. **For loops**  \n",
    "2. **Conditionals**  \n",
    "3. **Writing functions**\n",
    "4. **Variable scope**\n",
    "5. **Libraries**"
   ]
  },
  {
   "cell_type": "markdown",
   "id": "b1b762c0",
   "metadata": {
    "slideshow": {
     "slide_type": "slide"
    }
   },
   "source": [
    "# For Loops\n",
    "\n",
    "<img src=\"./images/forloopa.png\"  class=\"plain\" width=\"800\"/>"
   ]
  },
  {
   "cell_type": "markdown",
   "id": "ea21ea92",
   "metadata": {
    "slideshow": {
     "slide_type": "slide"
    }
   },
   "source": [
    "#  For Loops\n",
    "\n",
    "<img src=\"./images/forloopb.png\"  class=\"plain\" width=\"800\"/>"
   ]
  },
  {
   "cell_type": "markdown",
   "id": "79ff0c36",
   "metadata": {
    "slideshow": {
     "slide_type": "slide"
    }
   },
   "source": [
    "\n",
    "# Pairs Task (3 min)\n",
    "\n",
    "I want to sum the integers from 1 to 10. What is wrong with this code? How can I fix it? \n",
    "\n",
    "```\n",
    "total = 0\n",
    "for number in range(10)\n",
    "\ttotal = total + number\n",
    "print(total)\n",
    "```"
   ]
  },
  {
   "cell_type": "markdown",
   "id": "79b111a2",
   "metadata": {
    "slideshow": {
     "slide_type": "slide"
    }
   },
   "source": [
    "# Conditionals\n",
    "\n",
    "```\n",
    "mass = 4.2\n",
    "\n",
    "if mass > 3:\n",
    "\tprint(mass, ' is large')\n",
    "\n",
    "if mass < 2:\n",
    "\tprint(mass, ' is small')\n",
    "\n",
    "if 2 <= mass <= 3:  \n",
    "\tprint(mass, ' is just right')\n",
    "```"
   ]
  },
  {
   "cell_type": "markdown",
   "id": "e027476a",
   "metadata": {
    "slideshow": {
     "slide_type": "slide"
    }
   },
   "source": [
    "# Pairs Task (3 min)\n",
    "\n",
    "What is wrong with the code? Fix the code so that it works as intended \n",
    "\n",
    "\n",
    "```\n",
    "grade = 95\n",
    "\n",
    "if grade >= 70:\n",
    "\tprint(\"grade is C\")\n",
    "elif grade >= 80:\n",
    "\tprint(\"grade is B\")\n",
    "elif grade >= 90:\n",
    "\tprint(\"grade is A\")\n",
    "```"
   ]
  },
  {
   "cell_type": "markdown",
   "id": "fbd851dc",
   "metadata": {
    "slideshow": {
     "slide_type": "slide"
    }
   },
   "source": [
    "# Functions\n",
    "\n",
    "```\n",
    "def print_greeting():\n",
    "\tprint (\"Hello!\")\n",
    "```"
   ]
  },
  {
   "cell_type": "markdown",
   "id": "feb85f18",
   "metadata": {
    "slideshow": {
     "slide_type": "slide"
    }
   },
   "source": [
    "# Functions\n",
    "\n",
    "```\n",
    "def print_personalised_greeting(name):\n",
    "\tprint (\"Hello \"+name)\n",
    "```"
   ]
  },
  {
   "cell_type": "markdown",
   "id": "66f9269d",
   "metadata": {
    "slideshow": {
     "slide_type": "slide"
    }
   },
   "source": [
    "# Pairs Task (2 min)\n",
    "\n",
    "\n",
    "Fill in the blanks to create a function that takes a list of numbers as an argument and returns the first negative value in the list\n",
    "\n",
    "```\n",
    "def first_negative(values):\n",
    "\tfor v in ____:\n",
    "\t\tif ____:\n",
    "\t\t\treturn ____\n",
    "```"
   ]
  },
  {
   "cell_type": "markdown",
   "id": "d95ae6fe",
   "metadata": {
    "slideshow": {
     "slide_type": "slide"
    }
   },
   "source": [
    "\n",
    "# Variable Scope\n",
    "\n",
    "```\n",
    "pressure = 103.9\n",
    "\n",
    "def adjust(temperature):\n",
    "    new_temperature = temperature*1.43/pressure\n",
    "    \n",
    "```"
   ]
  },
  {
   "cell_type": "markdown",
   "id": "a6d04f06",
   "metadata": {
    "slideshow": {
     "slide_type": "subslide"
    }
   },
   "source": [
    "# Variable Scope\n",
    "\n",
    "```\n",
    "pressure = 103.9\n",
    "\n",
    "def adjust(temperature):\n",
    "    new_temperature = temperature*1.43/pressure\n",
    "    return new_temperature\n",
    "    \n",
    "```"
   ]
  },
  {
   "cell_type": "markdown",
   "id": "adbde1c7",
   "metadata": {
    "slideshow": {
     "slide_type": "slide"
    }
   },
   "source": [
    "# Python scientific libraries\n",
    "\n",
    "<img src=\"./images/scipy.png\"  class=\"plain\" width=\"600\"/>"
   ]
  },
  {
   "cell_type": "markdown",
   "id": "4be3eb03",
   "metadata": {
    "slideshow": {
     "slide_type": "slide"
    }
   },
   "source": [
    "<img src=\"./images/functionmethodpackage.png\"  class=\"plain\" width=\"400\"/>"
   ]
  },
  {
   "cell_type": "markdown",
   "id": "a9040ef9",
   "metadata": {
    "slideshow": {
     "slide_type": "slide"
    }
   },
   "source": [
    "# Pairs Task (15 min)\n",
    "\n",
    "You want to select a random character from a string. `base = \"ATCHAGHRASG\" `\n",
    "\n",
    "1. which standard library module could help you?\n",
    "2. which function could you select from that module? \n",
    "3. try to write a program that uses that function\n",
    "\n",
    "Feel free to look online (search for \"Python standard library\")"
   ]
  },
  {
   "cell_type": "markdown",
   "id": "289157fb",
   "metadata": {
    "slideshow": {
     "slide_type": "slide"
    }
   },
   "source": [
    "# ✨ Lesson outline ✨\n",
    "\n",
    "1. **For loops**  dummy variable, loop syntax, index from 0  \n",
    "2. **Conditionals**  if, elif, else, ordering \n",
    "3. **Writing functions** function syntax, return statement, parameters and arguments\n",
    "4. **Variable scope** local and global variables\n",
    "5. **Libraries** modules, packages, libraries, import statements, aliases\n",
    "\n",
    "**Bonus end note: Programming good practice**"
   ]
  },
  {
   "cell_type": "markdown",
   "id": "d5762ded",
   "metadata": {
    "slideshow": {
     "slide_type": "slide"
    }
   },
   "source": [
    "# ⚠️ Programming good practice ⚠️ \n",
    "\n",
    "**Document your code with docstrings**\n",
    "\n",
    "```\n",
    " def calc_bulk_density(mass,volume):\n",
    "     \"Return dry bulk density = powder mass / powder volume.\"\n",
    "     return mass / volume\n",
    "```\n",
    "\n",
    "What are the other two types of code documentation you can use?"
   ]
  },
  {
   "cell_type": "markdown",
   "id": "b3e7b49a",
   "metadata": {
    "slideshow": {
     "slide_type": "subslide"
    }
   },
   "source": [
    "# ⚠️ Programming good practice ⚠️ \n",
    "\n",
    "**Test your code**\n",
    "\n",
    "```\n",
    " def calc_bulk_density(mass,volume):\n",
    "     \"Return dry bulk density = powder mass / powder volume.\"\n",
    "     assert mass > 0, \"mass must be more than zero\"\n",
    "     assert volume > 0, \"volume must be more than zero\"\n",
    "     return mass / volume\n",
    "```\n"
   ]
  },
  {
   "cell_type": "markdown",
   "id": "b525b788",
   "metadata": {
    "slideshow": {
     "slide_type": "subslide"
    }
   },
   "source": [
    "# ⚠️ Programming good practice ⚠️ \n",
    "\n",
    "**Focus on readability**\n",
    "\n",
    "- consistency is key\n",
    "- whitespace:  \n",
    "\t `spam(ham[1], {eggs: 2})`   \n",
    "\t `spam( ham[ 1 ], { eggs: 2} )`\n",
    "- clear, meaningful variable names (don't just use `x`, `p` etc and expect the reader to know what they mean!)"
   ]
  },
  {
   "cell_type": "markdown",
   "id": "86e3f7c0",
   "metadata": {
    "slideshow": {
     "slide_type": "subslide"
    }
   },
   "source": [
    "# ⚠️ Programming good practice ⚠️ \n",
    "\n",
    "**Think about reproducibility**\n",
    "\n",
    "Reproducibility is more complex and difficult than you might think..\n",
    "\n",
    "One straight-forward thing you can do is print the version number for each package you import using `print(packagename.__version__)`"
   ]
  },
  {
   "cell_type": "markdown",
   "id": "02039735",
   "metadata": {
    "slideshow": {
     "slide_type": "slide"
    }
   },
   "source": [
    "# ✨ Lesson outline ✨\n",
    "\n",
    "\n",
    "1. Reading (and cleaning) data with Pandas\n",
    "2. Analysing Data with NumPy\n",
    "3. Visualising Data with Matplotlib"
   ]
  },
  {
   "cell_type": "markdown",
   "id": "02d7a50b",
   "metadata": {
    "slideshow": {
     "slide_type": "slide"
    }
   },
   "source": [
    "# Pandas dataframe\n",
    "\n",
    "<img src=\"./images/dataframe.png\"  class=\"plain\" width=\"1000\"/>"
   ]
  },
  {
   "cell_type": "markdown",
   "id": "63f48686",
   "metadata": {
    "slideshow": {
     "slide_type": "slide"
    }
   },
   "source": [
    "# Indexing NumPy arrays\n",
    "\n",
    "<img src=\"./images/indexing_arrays.png\"  class=\"plain\" width=\"1000\"/>"
   ]
  },
  {
   "cell_type": "markdown",
   "id": "c39d7235",
   "metadata": {
    "slideshow": {
     "slide_type": "slide"
    }
   },
   "source": [
    "# Pairs task (5 min)\n",
    "\n",
    "Crack the code using the following array (don't copy and paste into notebook...):\n",
    "\n",
    "```\n",
    "Cipher = np.array([['a','h','w'],['e','o','d'],['r','l','x']])\n",
    "\n",
    "print(Cipher[0,1],Cipher[1,0],Cipher[2,1]*2,Cipher[1,1],\" \",Cipher[0,2],Cipher[1,1],Cipher[2,0],Cipher[2,1],Cipher[1,2])\n",
    "```"
   ]
  },
  {
   "cell_type": "markdown",
   "id": "b5da798d",
   "metadata": {
    "slideshow": {
     "slide_type": "slide"
    }
   },
   "source": [
    "# ✨ Lesson outline ✨\n",
    "\n",
    "\n",
    "1. **Reading (and cleaning) data with Pandas:** `pandas.read_csv`, DataFrames, `pandas.to_csv`\n",
    "2. **Analysing Data with NumPy:** `mean`, `min`, `max`\n",
    "3. **Visualising Data with Matplotlib:**  `plot()`, `xlabel()`, `ylabel()`, `savefig()`"
   ]
  },
  {
   "cell_type": "markdown",
   "id": "969c2022",
   "metadata": {
    "slideshow": {
     "slide_type": "slide"
    }
   },
   "source": [
    "# Next steps\n",
    "\n",
    "**This is just the beginning**\n",
    "\n",
    "You will meet Python again in future years (including KD5081).\n",
    "\n",
    "You could also...\n",
    "\n",
    "- Follow up with an online tutorial (e.g. [here](https://hacksoc.gitbook.io/python-classes/))\n",
    "- Adapt what we have done here to create a notebook/script for your own mini-project\n",
    "- Take part in the [Advent of Code](https://adventofcode.com/)"
   ]
  }
 ],
 "metadata": {
  "celltoolbar": "Slideshow",
  "kernelspec": {
   "display_name": "Python 3 (ipykernel)",
   "language": "python",
   "name": "python3"
  },
  "language_info": {
   "codemirror_mode": {
    "name": "ipython",
    "version": 3
   },
   "file_extension": ".py",
   "mimetype": "text/x-python",
   "name": "python",
   "nbconvert_exporter": "python",
   "pygments_lexer": "ipython3",
   "version": "3.9.6"
  }
 },
 "nbformat": 4,
 "nbformat_minor": 5
}
