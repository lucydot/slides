{
 "cells": [
  {
   "cell_type": "markdown",
   "id": "capital-arnold",
   "metadata": {
    "slideshow": {
     "slide_type": "notes"
    }
   },
   "source": [
    "Abstract: Publishing your research software project in a peer-reviewed journal can have multiple benefits. This includes: increasing the visibility of your work, easily quantifiable recognition and credit through e.g. citation counts, and using the publication as an indicator for software reliability. Last but not least, the peer review process should lead to better quality software.\n",
    "\n",
    "In recent years, several new research software journals have emerged. In this talk, after outlining the various benefits gained from publishing research software, I will focus on the Journal of Open Source Software (JOSS). Drawing on my personal experience of publishing in and reviewing for JOSS, I will reflect on how this has improved the quality of software I write, and how we may use the process of software publication to support others' development. I will outline the unique JOSS publishing model that challenges the more \"traditional\" journals, including their fully open, Github-based peer review process. Hopefully you will leave the talk knowing if your work falls within the journal scope, and understanding how to successfully submit your software project."
   ]
  },
  {
   "cell_type": "markdown",
   "id": "worthy-karma",
   "metadata": {
    "slideshow": {
     "slide_type": "slide"
    }
   },
   "source": [
    "# Publishing you Software Project (with the Journal of Open Source Software) \n",
    "\n",
    "## Lucy Whalley / lucydot.github.io\n",
    "\n",
    "<p align=\"center\">\n",
    "<img src=\"landing.jpg\" alt=\"drawing\" width=\"400\"/>\n",
    "</p>"
   ]
  },
  {
   "cell_type": "markdown",
   "id": "therapeutic-approval",
   "metadata": {
    "slideshow": {
     "slide_type": "notes"
    }
   },
   "source": [
    "Well we are coming to the end of SeptembRSE. Over the past couple of weeks I've enjoyed watching members of our community report on their work and the tools they are using, and reflecting on better ways for working together with each other. Now Something which rightly continues to be a big issue for our community is how we get credit for this work, and that is something I'll be looking at today as part of this talk: Publishing your software project with the journal of open source software. This second part is in brackets because although I am going to focus on JOSS in the second part of the talk, much of what I will discuss in the first half is applicable to other new and emerging software journals or peer-review communities."
   ]
  },
  {
   "cell_type": "markdown",
   "id": "sufficient-signal",
   "metadata": {
    "slideshow": {
     "slide_type": "slide"
    }
   },
   "source": [
    "# Who am I?\n",
    "\n",
    "\n",
    "\n",
    "📖  Research fellow at Northumbria University (computational materials science, high performance computing, software development)   \n",
    "\n",
    "🖥️  Software Sustainability Institute 2019 fellow  \n",
    "\n",
    "⚠️  (Disclaimer!) Topic editor for The Journal of Open Source Software  \n",
    "\n"
   ]
  },
  {
   "cell_type": "markdown",
   "id": "champion-connectivity",
   "metadata": {
    "slideshow": {
     "slide_type": "notes"
    }
   },
   "source": [
    "I'm an academic, and some of this talk probably reflects that.\n",
    "\n",
    "Thank SSI, provided a platform. Applications are open for the 2022 fellowships so I'd encourage you to take a look at that programme if not already done so."
   ]
  },
  {
   "cell_type": "markdown",
   "id": "current-certification",
   "metadata": {
    "slideshow": {
     "slide_type": "slide"
    }
   },
   "source": [
    "# In today's talk I want to persuade you that publishing your software in a peer-reviewed journal is a <span style=\"color:#8B0000\"> Good Idea $^\\mathrm{TM}$</span> and that it is possible to do without *too much hassle*\n",
    "\n",
    "(*Assumption: Research software is a valid research output and authors should receive appropriate credit*)"
   ]
  },
  {
   "cell_type": "markdown",
   "id": "unnecessary-regulation",
   "metadata": {
    "slideshow": {
     "slide_type": "notes"
    }
   },
   "source": [
    "There are several ways to publish code. For example, you could share your code on Github and this can now be easily cited using the citation file format.\n",
    "\n",
    "In this talk I'm talking specifically about publishing your project in a peer-reviewed journal.\n",
    "\n",
    "So first of all, I'd like to talk a little about barriers to sharing our code in this way."
   ]
  },
  {
   "cell_type": "markdown",
   "id": "isolated-marsh",
   "metadata": {
    "slideshow": {
     "slide_type": "slide"
    }
   },
   "source": [
    "# Why do we publish our <mark>research output</mark> in journals?\n",
    "\n",
    "✔️ increase the visibility of our work    \n",
    "  \n",
    "✔️ easily quantifiable recognition and credit through e.g. citation counts  \n",
    "\n",
    "✔️ peer review process should lead to better quality output  \n",
    "\n"
   ]
  },
  {
   "cell_type": "markdown",
   "id": "generous-austin",
   "metadata": {
    "slideshow": {
     "slide_type": "slide"
    }
   },
   "source": [
    "# So why don't we publish <mark>our code</mark> in journals?\n",
    "\n",
    "<p align=\"center\">\n",
    "<img src=\"RS_past_present.png\" alt=\"drawing\" width=\"400\"/>\n",
    "</p>\n",
    "\n",
    "*\"...the basic means of communicating scientific results hasn’t changed for 400 years. Papers may be posted online, but they’re still text and pictures on a page.\"*\n",
    " \n",
    "From *The Scientific Paper Is Obsolete* by James Somers"
   ]
  },
  {
   "cell_type": "markdown",
   "id": "tropical-handbook",
   "metadata": {
    "slideshow": {
     "slide_type": "notes"
    }
   },
   "source": [
    "If software is a valid research output, why don't we publish our software in journals as standard?\n",
    "Traditional academic journals weren't designed with computational work in mind, and they haven't adapted to the emergence of the computational sciences. \n",
    "In 1665...paper journal summarising work in static text, pictures and mathematical symbols.\n",
    "In 2021....paper and online journals are still summarisinf work as static text, pictures and math symbols.\n",
    "And even though software is central to much of science, I'd argue that it's almost impossible to accurately describe the work you did in this format.\n",
    "We could spend precious time describing the code as text and images  - but is this useful use of our time? And why are we not peer-reviewing the output itself - the software?\n",
    "So"
   ]
  },
  {
   "cell_type": "markdown",
   "id": "sunrise-railway",
   "metadata": {
    "slideshow": {
     "slide_type": "notes"
    }
   },
   "source": [
    "# Why don't we publish our code in journals as standard?\n",
    "\n",
    "- Publishing is dominated by the pdf paper format\n",
    "- The pdf cannot easily capture/describe the essence of the code\n",
    "- ...unless we spend precious time describing the code as text (and is this useful use of our time?)\n",
    "- the code itself is not reviewed"
   ]
  },
  {
   "cell_type": "markdown",
   "id": "elementary-twist",
   "metadata": {
    "slideshow": {
     "slide_type": "notes"
    }
   },
   "source": [
    "# What are our other software publishing options?\n",
    "\n",
    "<big>\n",
    "\n",
    "| Method | Comment|\n",
    "|--------|--------|\n",
    "| Public repo + Citation File Format (Github/Zenodo/Zotero integration) | Easy to cite, no peer review | \n",
    "| Community peer review: rOpenSci, pyOpensci | Enables peer-review, but no article for your yearly probation review |\n",
    "| Executable paper (e.g. Jupyter Notebook) as Supplementary Information | Not necessarily peer-reviewed, limited to smaller pieces of code, requires a corresponding full length article |\n",
    "| Computational journal | Software itself not reviewed, requires a mapping from software to pdf |"
   ]
  },
  {
   "cell_type": "markdown",
   "id": "attached-victoria",
   "metadata": {
    "slideshow": {
     "slide_type": "slide"
    }
   },
   "source": [
    "# What are our code publishing options?\n",
    "\n",
    "\n",
    "| Publishing method | Example | Citation? | Software peer-review? |  Journal publication? | Time-efficient? | \n",
    "|--------|--------|------|--------|-------|--------|\n",
    "| Public repo + citation file | Citation File Format | ✔️ |  ✖️  | ✖️ | ✔️ | \n",
    "| Community peer review | rOpenSci, pyOpensci | ✔️ |  ✔️  |✖️ | ✔️ |  \n",
    "| Executable paper as Supplementary Information | Jupyter Notebook | ✔️ | ✖️   |✔️ |  ✔️  |\n",
    "| Software paper | Journal of Computational Electronics  | ✔️ | ✖️  | ✔️ | ✖️  |\n",
    "| Software meta-paper | JOSS, JORS | ✔️ | ✔️  | ✔️ | ✔️ |\n",
    "\n",
    "\n",
    "\n",
    "List of software journals: https://www.software.ac.uk/which-journals-should-i-publish-my-software"
   ]
  },
  {
   "cell_type": "markdown",
   "id": "tough-religion",
   "metadata": {
    "slideshow": {
     "slide_type": "notes"
    }
   },
   "source": [
    "Associated journal is unfortunately still important if you are an academic, personally I've also noticed that the journal article associated with a piece of software tends to be cited more than say, the corresponding release  on zotero. So although citation may be made easier with CFF, until our research culture changes, an associated journal article may lead to increased citations."
   ]
  },
  {
   "cell_type": "markdown",
   "id": "floppy-enterprise",
   "metadata": {
    "slideshow": {
     "slide_type": "notes"
    }
   },
   "source": [
    "But before I go further  into JOSS I want to highlight a benefits that can be gotten from publishing software. And is personal experience drawn from my time as a PhD student. And I'm telling this story because I think it's quite a common one."
   ]
  },
  {
   "cell_type": "markdown",
   "id": "african-legislature",
   "metadata": {
    "slideshow": {
     "slide_type": "slide"
    }
   },
   "source": [
    "## Effmass.py \n",
    "- This was my first research software project\n",
    "- `Effmass` calculates the effective mass of electrons in a particular material \n",
    "- But the domain specific details aren't important..\n",
    "\n",
    "\n",
    "![](spaghetti.png)\n",
    "\n",
    "\n"
   ]
  },
  {
   "cell_type": "markdown",
   "id": "substantial-badge",
   "metadata": {
    "slideshow": {
     "slide_type": "slide"
    }
   },
   "source": [
    "## Effmass circa 2016 🍝 \n",
    "\n",
    "- One module contains (long) methods for data parsing, analysis and print out\n",
    "- In a private Github repo (with me as sole contributor)\n",
    "- Has the functionality needed for my own data analysis\n",
    "- No testing or documentation\n",
    "\n",
    "## Effmass circa 2018  🖥️ \n",
    "\n",
    "- Re-factored into six modules\n",
    "- In a public Github repo \n",
    "- Testing and continuous integration\n",
    "- Documentation website\n",
    "\n",
    "## Effmass now 💖\n",
    "\n",
    "- 6 contributors\n",
    "- Can parse data from multiple sources\n",
    "- 14,000 downloads (PyPI stats), 4 citations (a discussion around *that* ratio is a whole other talk...)"
   ]
  },
  {
   "cell_type": "markdown",
   "id": "demanding-sharing",
   "metadata": {
    "slideshow": {
     "slide_type": "slide"
    }
   },
   "source": [
    "### JOSS transformed the way I look at software\n",
    "\n",
    "- The review criteria provided a curriculum for self-directed learning\n",
    "- It justified the time spent on learning new skills: documentation, testing, packaging (*I'll get a journal publication!*)\n",
    "- The peer-review process forced me to share my code and this built my confidence (*I'm not the worst programmer in the world!*)\n",
    "\n",
    "<img src=\"carrots.png\" alt=\"drawing\" width=\"600\"/>\n",
    "\n"
   ]
  },
  {
   "cell_type": "markdown",
   "id": "raising-secret",
   "metadata": {
    "slideshow": {
     "slide_type": "slide"
    }
   },
   "source": [
    "\n",
    "\n",
    "# JOSS: making it as easy as possible to write a software paper\n",
    "\n",
    "- <mark>A *developer-friendly* journal</mark>\n",
    "- Paper preparation and submission for well documented software should take <mark>less than an hour</mark>\n",
    "- The main purpose of JOSS is to enable citation credit to be given to authors of research software\n",
    "- Open access and <mark>no publishing charge</mark>"
   ]
  },
  {
   "cell_type": "markdown",
   "id": "coordinated-variation",
   "metadata": {},
   "source": [
    "# JOSS scope 🔭 \n",
    "\n",
    "The software must...\n",
    "- be open source \n",
    "- have an obvious research application: allows new research challenges to be addressed or makes addressing research challenges significantly better (e.g., faster, easier, simpler)\n",
    "- result from a substantial scholarly effort (rule of thumb: 3 months minimum)"
   ]
  },
  {
   "cell_type": "markdown",
   "id": "sporting-ability",
   "metadata": {
    "slideshow": {
     "slide_type": "slide"
    }
   },
   "source": [
    "# The JOSS paper  📖 \n",
    "\n",
    "- Short (around two pages)\n",
    "- Describes the high level functionality for a non-specialist audience\n",
    "- A statement of need illustrating the research application of the software\n",
    "- Does not need to contain novel results"
   ]
  },
  {
   "cell_type": "markdown",
   "id": "amber-characterization",
   "metadata": {
    "slideshow": {
     "slide_type": "-"
    }
   },
   "source": [
    "# The JOSS peer review process ✏️ \n",
    "\n",
    "- Completely open, Github-based peer review process\n",
    "- Reviewing the software itself\n",
    "- Focused on improving the submission through dialogue - JOSS is an <mark>open collaboration</mark> between author, editor, reviewers (and robot!)\n"
   ]
  },
  {
   "cell_type": "markdown",
   "id": "alleged-defendant",
   "metadata": {
    "slideshow": {
     "slide_type": "slide"
    }
   },
   "source": [
    "# The JOSS editorial bot 🤖\n",
    "\n",
    "- Automate all the things! Use bots to automate labour-intensive tasks\n",
    "- It is now quite general purpose: https://github.com/openjournals/buffy\n",
    "- Used elsewhere for review management: rOpenSci, pyOpenSci, JuliaCon"
   ]
  },
  {
   "cell_type": "markdown",
   "id": "injured-medicaid",
   "metadata": {
    "slideshow": {
     "slide_type": "slide"
    }
   },
   "source": [
    "![](automate_everything.jpeg)"
   ]
  },
  {
   "cell_type": "markdown",
   "id": "received-kansas",
   "metadata": {
    "slideshow": {
     "slide_type": "slide"
    }
   },
   "source": [
    "# JOSS fills a gap in the market\n",
    "\n",
    "🎈 1000th paper published in 2020 🎈\n",
    "\n",
    "![](growth.png)"
   ]
  },
  {
   "cell_type": "markdown",
   "id": "inclusive-approval",
   "metadata": {
    "slideshow": {
     "slide_type": "slide"
    }
   },
   "source": [
    "#  JOSS is one of many long overdue developments in software publishing  \n",
    "\n",
    "✨ Other publishing platforms are available (JORS, pyOpenSci, rOpenSci, PLOS, ReScience C....)  \n",
    "✨ If you write software, publish it!   \n",
    "✨  If you use software, cite it!   \n",
    "✨  If you do either, <mark>come and review for JOSS! </mark>  "
   ]
  },
  {
   "cell_type": "markdown",
   "id": "provincial-nation",
   "metadata": {
    "slideshow": {
     "slide_type": "slide"
    }
   },
   "source": [
    "# ✨ Thanks ✨ \n",
    "\n",
    "- Software Sustainability Institute (fellowship funding)\n",
    "- Jeremy Cohen (Mentor for SSI fellowship)\n",
    "- Richard Scott (front image)\n",
    "- EPSRC (PhD funding)\n",
    "- The developers and maintainers of the Python Scipy ecosystem"
   ]
  }
 ],
 "metadata": {
  "celltoolbar": "Slideshow",
  "kernelspec": {
   "display_name": "Python 3",
   "language": "python",
   "name": "python3"
  },
  "language_info": {
   "codemirror_mode": {
    "name": "ipython",
    "version": 3
   },
   "file_extension": ".py",
   "mimetype": "text/x-python",
   "name": "python",
   "nbconvert_exporter": "python",
   "pygments_lexer": "ipython3",
   "version": "3.7.9"
  }
 },
 "nbformat": 4,
 "nbformat_minor": 5
}
